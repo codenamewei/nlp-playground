{
 "cells": [
  {
   "cell_type": "markdown",
   "metadata": {},
   "source": [
    "There are 3 tokenization variants\n",
    "- Word-based\n",
    "- Character based\n",
    "- Sub-word based"
   ]
  },
  {
   "cell_type": "code",
   "execution_count": 4,
   "metadata": {},
   "outputs": [
    {
     "name": "stdout",
     "output_type": "stream",
     "text": [
      "['Jim', 'Henson', 'was', 'a', 'puppeteer']\n"
     ]
    }
   ],
   "source": [
    "tokenized_text = \"Jim Henson was a puppeteer\".split()\n",
    "print(tokenized_text)"
   ]
  },
  {
   "cell_type": "markdown",
   "metadata": {},
   "source": [
    "##### Subword Tokenization\n",
    "- Subword tokenization algorithms rely on the principle that frequently used words should not be split into smaller subwords, \n",
    "- but rare words should be decomposed into meaningful subwords."
   ]
  },
  {
   "cell_type": "markdown",
   "metadata": {},
   "source": [
    "### Sub-word Tokenization\n",
    "\n",
    "- Split subword only with semantic meaning\n",
    "- Good coverage with small vocabularies, and close to no unknown tokens\n",
    "\n",
    "<div align=\"center\">\n",
    "<img src=\"https://codenamewei-medium.s3.ap-southeast-1.amazonaws.com/workflow2.png\">\n",
    "</div>"
   ]
  },
  {
   "cell_type": "markdown",
   "metadata": {},
   "source": [
    "### Subword tokenization\n",
    "- **let's** as one word\n",
    "- tokenization as token, ization\n",
    "\n",
    "<div align=\"center\">\n",
    "<img src=\"../metadata/subword.png\">\n",
    "</div>\n",
    "\n",
    "### Different subword tokenizeation based algorithms\n",
    "- WordPiece\n",
    "- Unigram\n",
    "- Byte-Pair Encoding\n",
    "\n",
    "- **WordPiece** tokenization is a subword-based tokenization schema adopted by BERT\n",
    "    - it segments the input text via a longest-match-first tokenization strategy, known as Maximum Matching or MaxMatch\n",
    "    \n",
    "<div align=\"center\">\n",
    "<img src=\"../metadata/subword_tokenization.png\">\n",
    "</div>  \n"
   ]
  },
  {
   "cell_type": "code",
   "execution_count": 12,
   "metadata": {},
   "outputs": [
    {
     "data": {
      "text/plain": [
       "{'input_ids': [101, 2478, 1037, 10938, 2121, 14048, 102], 'token_type_ids': [0, 0, 0, 0, 0, 0, 0], 'attention_mask': [1, 1, 1, 1, 1, 1, 1]}"
      ]
     },
     "execution_count": 12,
     "metadata": {},
     "output_type": "execute_result"
    }
   ],
   "source": [
    "from transformers import BertTokenizer\n",
    "\n",
    "checkpoint = \"bert-base-uncased\"\n",
    "\n",
    "inputstr = \"Using a transformer networking\"\n",
    "\n",
    "\n",
    "tokenizer = BertTokenizer.from_pretrained(checkpoint)\n",
    "\n",
    "tokenizer(inputstr)\n"
   ]
  },
  {
   "cell_type": "code",
   "execution_count": 13,
   "metadata": {},
   "outputs": [
    {
     "data": {
      "text/plain": [
       "{'input_ids': [101, 2478, 1037, 10938, 2121, 14048, 102], 'token_type_ids': [0, 0, 0, 0, 0, 0, 0], 'attention_mask': [1, 1, 1, 1, 1, 1, 1]}"
      ]
     },
     "execution_count": 13,
     "metadata": {},
     "output_type": "execute_result"
    }
   ],
   "source": [
    "from transformers import AutoTokenizer\n",
    "\n",
    "tokenizer = AutoTokenizer.from_pretrained(checkpoint)\n",
    "\n",
    "tokenizer(inputstr)"
   ]
  },
  {
   "cell_type": "markdown",
   "metadata": {},
   "source": [
    "## Encoding have two steps \n",
    "1. tokenization\n",
    "    - Split the text into words (or parts of words, punctuation symbols, etc)\n",
    "2. token conversion to input IDs"
   ]
  },
  {
   "cell_type": "code",
   "execution_count": 14,
   "metadata": {},
   "outputs": [
    {
     "name": "stdout",
     "output_type": "stream",
     "text": [
      "['using', 'a', 'transform', '##er', 'networking']\n"
     ]
    }
   ],
   "source": [
    "# 1. tokenization\n",
    "\n",
    "tokens = tokenizer.tokenize(inputstr)\n",
    "\n",
    "print(tokens)"
   ]
  },
  {
   "cell_type": "code",
   "execution_count": 18,
   "metadata": {},
   "outputs": [
    {
     "name": "stdout",
     "output_type": "stream",
     "text": [
      "[2478, 1037, 10938, 2121, 14048]\n"
     ]
    }
   ],
   "source": [
    "# 2. token conversion to input IDs\n",
    "\n",
    "ids = tokenizer.convert_tokens_to_ids(tokens)\n",
    "\n",
    "print(ids)"
   ]
  },
  {
   "cell_type": "markdown",
   "metadata": {},
   "source": [
    "## Decoding"
   ]
  },
  {
   "cell_type": "code",
   "execution_count": 19,
   "metadata": {},
   "outputs": [
    {
     "name": "stdout",
     "output_type": "stream",
     "text": [
      "using a transformer networking\n"
     ]
    }
   ],
   "source": [
    "decoded_string = tokenizer.decode([2478, 1037, 10938, 2121, 14048])\n",
    "\n",
    "print(decoded_string)"
   ]
  }
 ],
 "metadata": {
  "kernelspec": {
   "display_name": "Python 3",
   "language": "python",
   "name": "python3"
  },
  "language_info": {
   "codemirror_mode": {
    "name": "ipython",
    "version": 3
   },
   "file_extension": ".py",
   "mimetype": "text/x-python",
   "name": "python",
   "nbconvert_exporter": "python",
   "pygments_lexer": "ipython3",
   "version": "3.8.5"
  }
 },
 "nbformat": 4,
 "nbformat_minor": 4
}
