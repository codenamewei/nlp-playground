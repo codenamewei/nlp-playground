{
 "cells": [
  {
   "cell_type": "code",
   "execution_count": 83,
   "metadata": {},
   "outputs": [],
   "source": [
    "from transformers import pipeline"
   ]
  },
  {
   "cell_type": "code",
   "execution_count": 84,
   "metadata": {},
   "outputs": [
    {
     "data": {
      "text/plain": [
       "[{'label': 'POSITIVE', 'score': 0.999880850315094},\n",
       " {'label': 'NEGATIVE', 'score': 0.9789105653762817}]"
      ]
     },
     "execution_count": 84,
     "metadata": {},
     "output_type": "execute_result"
    }
   ],
   "source": [
    "classifier = pipeline('sentiment-analysis')\n",
    "\n",
    "raw_inputs = ['Cinderella is a sweet fairy tale story', \"The experience was painful and torturing\"]\n",
    "              \n",
    "output = classifier(raw_inputs)\n",
    "\n",
    "output"
   ]
  },
  {
   "cell_type": "markdown",
   "metadata": {},
   "source": [
    "# get clue about the model to get the tokenizer that used with it \n",
    "help(classifier.model)"
   ]
  },
  {
   "cell_type": "code",
   "execution_count": 85,
   "metadata": {},
   "outputs": [
    {
     "name": "stdout",
     "output_type": "stream",
     "text": [
      "Underlying framework: pt\n"
     ]
    }
   ],
   "source": [
    "framework = classifier.framework\n",
    "\n",
    "print(f\"Underlying framework: {framework}\")"
   ]
  },
  {
   "cell_type": "markdown",
   "metadata": {},
   "source": [
    "### Tokenization\n",
    "\n",
    "\n",
    "- Use **AutoTokenizer** class and its **from_pretrained** method to download the tokenizer by referring the checkpoint name of our model \n",
    "\n",
    "- default checkpoint of **sentiment-analysis**\n",
    "    - distilbert-base-uncased-finetuned-sst-2-english [here](https://huggingface.co/distilbert-base-uncased-finetuned-sst-2-english)\n"
   ]
  },
  {
   "cell_type": "code",
   "execution_count": 86,
   "metadata": {},
   "outputs": [],
   "source": [
    "from transformers import AutoTokenizer"
   ]
  },
  {
   "cell_type": "code",
   "execution_count": 87,
   "metadata": {},
   "outputs": [],
   "source": [
    "checkpoint = \"distilbert-base-uncased-finetuned-sst-2-english\"\n",
    "\n",
    "tokenizer = AutoTokenizer.from_pretrained(checkpoint)"
   ]
  },
  {
   "cell_type": "code",
   "execution_count": 88,
   "metadata": {},
   "outputs": [
    {
     "name": "stdout",
     "output_type": "stream",
     "text": [
      "{'input_ids': tensor([[  101, 21686,  2003,  1037,  4086,  8867,  6925,  2466,   102],\n",
      "        [  101,  1996,  3325,  2001,  9145,  1998, 17153, 16037,   102]]), 'attention_mask': tensor([[1, 1, 1, 1, 1, 1, 1, 1, 1],\n",
      "        [1, 1, 1, 1, 1, 1, 1, 1, 1]])}\n"
     ]
    }
   ],
   "source": [
    "## can put in a list or multiple lists (like now)\n",
    "\n",
    "# if return_tensors not defined , will return as list\n",
    "inputs = tokenizer(raw_inputs, padding = True, truncation = True, return_tensors = framework)\n",
    "\n",
    "# inputs is a disctionary have two keys\n",
    "# input_ids\n",
    "# attention_mask\n",
    "print(inputs)\n",
    "\n",
    "\n",
    "#list_inputs = tokenizer(raw_inputs, padding = True, truncation = True)\n",
    "\n",
    "#print(list_inputs)"
   ]
  },
  {
   "cell_type": "markdown",
   "metadata": {},
   "source": [
    "### import pretrained model "
   ]
  },
  {
   "cell_type": "code",
   "execution_count": 89,
   "metadata": {},
   "outputs": [],
   "source": [
    "from transformers import AutoModel"
   ]
  },
  {
   "cell_type": "code",
   "execution_count": 90,
   "metadata": {},
   "outputs": [
    {
     "name": "stderr",
     "output_type": "stream",
     "text": [
      "Some weights of the model checkpoint at distilbert-base-uncased-finetuned-sst-2-english were not used when initializing DistilBertModel: ['classifier.bias', 'pre_classifier.weight', 'pre_classifier.bias', 'classifier.weight']\n",
      "- This IS expected if you are initializing DistilBertModel from the checkpoint of a model trained on another task or with another architecture (e.g. initializing a BertForSequenceClassification model from a BertForPreTraining model).\n",
      "- This IS NOT expected if you are initializing DistilBertModel from the checkpoint of a model that you expect to be exactly identical (initializing a BertForSequenceClassification model from a BertForSequenceClassification model).\n"
     ]
    }
   ],
   "source": [
    "model = AutoModel.from_pretrained(checkpoint)"
   ]
  },
  {
   "cell_type": "code",
   "execution_count": 91,
   "metadata": {},
   "outputs": [
    {
     "name": "stdout",
     "output_type": "stream",
     "text": [
      "torch.Size([2, 9, 768])\n",
      "torch.Size([2, 9, 768])\n",
      "torch.Size([2, 9, 768])\n"
     ]
    }
   ],
   "source": [
    "outputs = model(**inputs)\n",
    "\n",
    "# batch size, sequence length, hidden size (vector dimension of each model input)\n",
    "# 2 = batch size\n",
    "# 11 = sequence length\n",
    "# 768 = The vector dimension of each model input.\n",
    "\n",
    "# can call with the following three methods, its a namedtuples\n",
    "print(outputs.last_hidden_state.shape)\n",
    "print(outputs['last_hidden_state'].shape)\n",
    "print(outputs[0].shape)"
   ]
  },
  {
   "cell_type": "code",
   "execution_count": 92,
   "metadata": {},
   "outputs": [
    {
     "name": "stdout",
     "output_type": "stream",
     "text": [
      "torch.Size([2, 2])\n",
      "tensor([[-4.3428,  4.6923],\n",
      "        [ 2.0215, -1.8161]], grad_fn=<AddmmBackward>)\n"
     ]
    }
   ],
   "source": [
    "from transformers import AutoModelForSequenceClassification\n",
    "\n",
    "model = AutoModelForSequenceClassification.from_pretrained(checkpoint)\n",
    "\n",
    "outputs = model(**inputs)\n",
    "\n",
    "# two sentences with two labels hence (2,2)\n",
    "print(outputs.logits.shape)\n",
    "print(outputs.logits)\n"
   ]
  },
  {
   "cell_type": "code",
   "execution_count": 93,
   "metadata": {},
   "outputs": [
    {
     "name": "stdout",
     "output_type": "stream",
     "text": [
      "tensor([[1.1913e-04, 9.9988e-01],\n",
      "        [9.7891e-01, 2.1089e-02]], grad_fn=<SoftmaxBackward>)\n"
     ]
    }
   ],
   "source": [
    "import torch\n",
    "\n",
    "predictions = torch.nn.functional.softmax(outputs.logits, dim = 1)\n",
    "\n",
    "print(predictions)"
   ]
  },
  {
   "cell_type": "code",
   "execution_count": 97,
   "metadata": {},
   "outputs": [
    {
     "name": "stdout",
     "output_type": "stream",
     "text": [
      "torch.return_types.max(\n",
      "values=tensor([0.9999, 0.9789], grad_fn=<MaxBackward0>),\n",
      "indices=tensor([1, 0]))\n"
     ]
    }
   ],
   "source": [
    "# get the label\n",
    "\n",
    "labelmap = model.config.id2label\n",
    "\n",
    "print('labels from index to class')\n",
    "print(labelmap)\n",
    "\n",
    "\n",
    "# alternatively, use torch.argmax\n",
    "final_predictions = torch.max(predictions, dim = 1)\n",
    "\n",
    "print(final_predictions)\n",
    "\n",
    "print([labelmap.get(i.item()) for i in final_predictions.indices])"
   ]
  }
 ],
 "metadata": {
  "kernelspec": {
   "display_name": "Python 3",
   "language": "python",
   "name": "python3"
  },
  "language_info": {
   "codemirror_mode": {
    "name": "ipython",
    "version": 3
   },
   "file_extension": ".py",
   "mimetype": "text/x-python",
   "name": "python",
   "nbconvert_exporter": "python",
   "pygments_lexer": "ipython3",
   "version": "3.8.5"
  }
 },
 "nbformat": 4,
 "nbformat_minor": 4
}
