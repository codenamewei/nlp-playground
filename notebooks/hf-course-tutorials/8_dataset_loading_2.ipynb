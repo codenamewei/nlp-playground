{
 "cells": [
  {
   "cell_type": "code",
   "execution_count": 6,
   "metadata": {},
   "outputs": [
    {
     "name": "stderr",
     "output_type": "stream",
     "text": [
      "Reusing dataset yelp_review_full (C:\\Users\\codenamewei\\.cache\\huggingface\\datasets\\yelp_review_full\\yelp_review_full\\1.0.0\\13c31a618ba62568ec8572a222a283dfc29a6517776a3ac5945fb508877dde43)\n",
      "100%|██████████| 2/2 [00:00<00:00,  5.96it/s]\n"
     ]
    }
   ],
   "source": [
    "from datasets import list_datasets, load_dataset, list_metrics, load_metric\n",
    "from datasets import Dataset\n",
    "import pandas as pd\n",
    "# Print all the available datasets\n",
    "#print(list_datasets())\n",
    "\n",
    "# Load a dataset and print the first example in the training set\n",
    "\n",
    "dataset = load_dataset('yelp_review_full')"
   ]
  },
  {
   "cell_type": "markdown",
   "metadata": {},
   "source": [
    "## [load dataset from pd dict/dataframe](https://huggingface.co/docs/datasets/loading_datasets.html#from-in-memory-data)"
   ]
  },
  {
   "cell_type": "code",
   "execution_count": 4,
   "metadata": {},
   "outputs": [],
   "source": [
    "\n",
    "df = pd.DataFrame({\"one\": list(range(0, 5)), \"two\": list(range(1, 6)), \"three\": list(range(5, 0, -1))})"
   ]
  },
  {
   "cell_type": "markdown",
   "metadata": {},
   "source": [
    "# export dataset to arrow \n",
    "- It creates\n",
    "    - {filename}.arrow\n",
    "    - {filename}_info.json (information of the dataset)"
   ]
  },
  {
   "cell_type": "code",
   "execution_count": 10,
   "metadata": {},
   "outputs": [],
   "source": [
    "dataset = Dataset.from_pandas(df)\n",
    "\n",
    "dataset_path = \".\"\n",
    "dataset.save_to_disk(dataset_path)"
   ]
  },
  {
   "cell_type": "code",
   "execution_count": 8,
   "metadata": {},
   "outputs": [],
   "source": []
  },
  {
   "cell_type": "code",
   "execution_count": null,
   "metadata": {},
   "outputs": [],
   "source": []
  }
 ],
 "metadata": {
  "interpreter": {
   "hash": "39853f62b8e4c2d3ee3838cfeadfd556e69cd9100de065179bf5857a68cd5520"
  },
  "kernelspec": {
   "display_name": "Python 3.8.5 64-bit ('nlp-playground': conda)",
   "language": "python",
   "name": "python3"
  },
  "language_info": {
   "codemirror_mode": {
    "name": "ipython",
    "version": 3
   },
   "file_extension": ".py",
   "mimetype": "text/x-python",
   "name": "python",
   "nbconvert_exporter": "python",
   "pygments_lexer": "ipython3",
   "version": "3.8.5"
  },
  "orig_nbformat": 4
 },
 "nbformat": 4,
 "nbformat_minor": 2
}
